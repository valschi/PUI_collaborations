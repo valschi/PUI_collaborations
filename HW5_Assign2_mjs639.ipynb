{
 "cells": [
  {
   "cell_type": "markdown",
   "metadata": {},
   "source": [
    "\n",
    "# Test that binomial and Poisson distributions look increasingly more similar to Gaussians as the mean of the distribution increases.\n",
    "\n",
    "## Your notebook should show the distributions, the models, clearly state the H0 null hypothesis, and properly interpret the tests (remember captions, significance, etc etc)"
   ]
  },
  {
   "cell_type": "code",
   "execution_count": 1,
   "metadata": {
    "collapsed": false
   },
   "outputs": [
    {
     "name": "stdout",
     "output_type": "stream",
     "text": [
      "Populating the interactive namespace from numpy and matplotlib\n"
     ]
    }
   ],
   "source": [
    "from __future__ import print_function, division\n",
    "import pylab as pl\n",
    "import pandas as pd\n",
    "import numpy as np\n",
    "import os\n",
    "import scipy.stats\n",
    "%pylab inline"
   ]
  },
  {
   "cell_type": "markdown",
   "metadata": {},
   "source": [
    "# My Distributions"
   ]
  },
  {
   "cell_type": "code",
   "execution_count": 78,
   "metadata": {
    "collapsed": false
   },
   "outputs": [],
   "source": [
    "alpha = 0.05\n",
    "np.random.seed(999)\n",
    "\n",
    "#Normal Distribution\n",
    "norm = np.random.randn(1000) \n",
    "\n",
    "#Normalized Poisson Distribution\n",
    "lam = 20\n",
    "pois = (np.random.poisson(lam, 1000) - lam) * (1/np.sqrt(lam))\n",
    "\n",
    "#Normalized Binomial Distribution\n",
    "n = 10 \n",
    "p = 0.5\n",
    "binom = (np.random.binomial(n, p, 1000) - n*p) / np.sqrt(n*p*(1-p))\n",
    "\n",
    "#Array of means for looping\n",
    "mean_array = np.arange(10, 2000, 10) "
   ]
  },
  {
   "cell_type": "markdown",
   "metadata": {},
   "source": [
    "# Testing the Poisson Distribution "
   ]
  },
  {
   "cell_type": "markdown",
   "metadata": {},
   "source": [
    "## $H_0$: The sample distribution comes from a Gaussian distribution\n",
    "### $\\alpha$ = 0.05"
   ]
  },
  {
   "cell_type": "markdown",
   "metadata": {},
   "source": [
    "## Plotting and running the tests"
   ]
  },
  {
   "cell_type": "code",
   "execution_count": 110,
   "metadata": {
    "collapsed": false
   },
   "outputs": [
    {
     "data": {
      "image/png": "[encoded data removed]",
      "text/plain": [
       "<matplotlib.figure.Figure at 0x7f081c905150>"
      ]
     },
     "metadata": {},
     "output_type": "display_data"
    },
    {
     "name": "stdout",
     "output_type": "stream",
     "text": [
      "Poisson on Normal\n",
      "\n",
      "KS Test: KstestResult(statistic=0.052468363120939276, pvalue=0.0078294399170928397)\n",
      "\n",
      "AD Test: AndersonResult(statistic=2.3670726571554042, critical_values=array([ 0.574,  0.653,  0.784,  0.914,  1.088]), significance_level=array([ 15. ,  10. ,   5. ,   2.5,   1. ]))\n",
      "\n",
      "KL Test: 0.00491776967451\n",
      "\n",
      "Pearson's Chi-Squared:\n"
     ]
    },
    {
     "data": {
      "text/plain": [
       "(None, Power_divergenceResult(statistic=-1861.7836790667943, pvalue=1.0))"
      ]
     },
     "execution_count": 110,
     "metadata": {},
     "output_type": "execute_result"
    }
   ],
   "source": [
    "#Plot the Poisson & Normal distributions\n",
    "pl.hist(pois, alpha=0.5, label=\"Poisson\")\n",
    "pl.hist(norm, alpha=0.5, label=\"Gaussian\")\n",
    "pl.legend()\n",
    "pl.title(\"similar distributions in shape\\nnormalized for mean and stretch\")\n",
    "pl.show()\n",
    "\n",
    "#Run the KS test for Poisson\n",
    "print (\"Poisson on Normal\\n\")\n",
    "print (\"KS Test:\", scipy.stats.kstest(pois,'norm'))\n",
    "\n",
    "#Run the AD test for Poisson\n",
    "print (\"\\nAD Test:\", scipy.stats.anderson(pois, dist='norm'))\n",
    "\n",
    "#Prepping and running the KL test for Poisson\n",
    "pdfPois, poisBins, = np.histogram(pois, density=True)\n",
    "poisBinCent = poisBins[:-1] + 0.5*(poisBins[1] - poisBins[0])\n",
    "\n",
    "print (\"\\nKL Test:\", scipy.stats.entropy(pdfPois, scipy.stats.norm.pdf(poisBinCent)))\n",
    "\n",
    "#Running the Chi-Square test for Poisson\n",
    "print (\"\\nPearson's Chi-Squared:\"), scipy.stats.chisquare(pois, norm)"
   ]
  },
  {
   "cell_type": "markdown",
   "metadata": {},
   "source": [
    "## Interpreting the Results"
   ]
  },
  {
   "cell_type": "markdown",
   "metadata": {
    "collapsed": true
   },
   "source": [
    "#### KS Test - Because the p-value (0.007) is below our chosen value (0.05), we can reject $H_0$ and assert that our sample distribution is not Gaussian"
   ]
  },
  {
   "cell_type": "markdown",
   "metadata": {},
   "source": [
    "#### AD Test - Because out AD statistic (2.36) is larger than the critical value at 0.05 (0.784), we can reject $H_0$ and assert that our sample distribution is not Gaussian"
   ]
  },
  {
   "cell_type": "markdown",
   "metadata": {},
   "source": [
    "#### KL Test - Because out KL statistic (0.0049) is WHAT? \n",
    "\n",
    "\n",
    "we can reject $H_0$ and assert that our sample distribution is not Gaussian"
   ]
  },
  {
   "cell_type": "markdown",
   "metadata": {},
   "source": [
    "#### Chi-Square Test - Because of  HOW DO WE INTERPRET CHI-SQUARE RESULTS?"
   ]
  },
  {
   "cell_type": "markdown",
   "metadata": {},
   "source": [
    "---"
   ]
  },
  {
   "cell_type": "markdown",
   "metadata": {},
   "source": [
    "# Testing the Binomial Distribution"
   ]
  },
  {
   "cell_type": "markdown",
   "metadata": {},
   "source": [
    "## $H_0$: The sample distribution comes from a Gaussian distribution\n",
    "### $\\alpha$ = 0.05"
   ]
  },
  {
   "cell_type": "markdown",
   "metadata": {},
   "source": [
    "## Plotting and running the tests"
   ]
  },
  {
   "cell_type": "code",
   "execution_count": 112,
   "metadata": {
    "collapsed": false
   },
   "outputs": [
    {
     "data": {
      "image/png": "[encoded data removed]",
      "text/plain": [
       "<matplotlib.figure.Figure at 0x7f081c9fad10>"
      ]
     },
     "metadata": {},
     "output_type": "display_data"
    },
    {
     "name": "stdout",
     "output_type": "stream",
     "text": [
      "Binomial on Normal\n",
      "\n",
      "KS Test: KstestResult(statistic=0.127, pvalue=1.6209256159527285e-14)\n",
      "\n",
      "AD Test: AndersonResult(statistic=15.204460551392458, critical_values=array([ 0.574,  0.653,  0.784,  0.914,  1.088]), significance_level=array([ 15. ,  10. ,   5. ,   2.5,   1. ]))\n",
      "\n",
      "KL Test: 0.00641114132785\n",
      "\n",
      "Pearson's Chi-Squared - \n"
     ]
    },
    {
     "data": {
      "text/plain": [
       "(None,\n",
       " Power_divergenceResult(statistic=3416.8197399489045, pvalue=4.0325568531430412e-261))"
      ]
     },
     "execution_count": 112,
     "metadata": {},
     "output_type": "execute_result"
    }
   ],
   "source": [
    "#Plot the Binomial & Normal distributions\n",
    "pl.figure()\n",
    "pl.hist(binom, alpha=0.5, label=\"Binomial\")\n",
    "pl.hist(norm, alpha=0.5, label=\"Gaussian\")\n",
    "pl.legend()\n",
    "pl.title(\"similar distributions\")\n",
    "pl.show()\n",
    "\n",
    "#Run the KS test for Binomial\n",
    "print (\"Binomial on Normal\\n\")\n",
    "print (\"KS Test:\", scipy.stats.kstest(binom,'norm'))\n",
    "\n",
    "#Run the AD test for Binomial\n",
    "print (\"\\nAD Test:\", scipy.stats.anderson(binom,'norm'))\n",
    "\n",
    "#Prepping and running the KL test for Binomial\n",
    "pdfBinom, binomBins, = np.histogram(binom, density=True)\n",
    "binomBinCent = binomBins[:-1] + 0.5*(binomBins[1] - binomBins[0])\n",
    "\n",
    "print (\"\\nKL Test:\", scipy.stats.entropy(pdfBinom, scipy.stats.norm.pdf(binomBinCent)))\n",
    "\n",
    "#Running the Chi-Square test for Poisson\n",
    "print (\"\\nPearson's Chi-Squared - \"), scipy.stats.chisquare(binom, norm)"
   ]
  },
  {
   "cell_type": "markdown",
   "metadata": {},
   "source": [
    "## Interpreting the Results"
   ]
  },
  {
   "cell_type": "markdown",
   "metadata": {},
   "source": [
    "#### KS Test - Because the p-value is extremely smaller than our chosen value (0.05), we can reject $H_0$ and assert that our sample distribution is not Gaussian"
   ]
  },
  {
   "cell_type": "markdown",
   "metadata": {},
   "source": [
    "#### AD Test - Because out AD statistic (15.2) is larger than the critical value at 0.05 (0.784), we can reject $H_0$ and assert that our sample distribution is not Gaussian"
   ]
  },
  {
   "cell_type": "markdown",
   "metadata": {},
   "source": [
    "#### KL Test - Because out KL statistic (0.0064) is WHAT? \n",
    "\n",
    "\n",
    "we can reject $H_0$ and assert that our sample distribution is not Gaussian"
   ]
  },
  {
   "cell_type": "markdown",
   "metadata": {},
   "source": [
    "#### Chi-Square Test - Because of  HOW DO WE INTERPRET CHI-SQUARE RESULTS?"
   ]
  },
  {
   "cell_type": "markdown",
   "metadata": {},
   "source": [
    "---"
   ]
  },
  {
   "cell_type": "markdown",
   "metadata": {},
   "source": [
    "# Looping for Increased Means"
   ]
  },
  {
   "cell_type": "markdown",
   "metadata": {},
   "source": [
    "## Binomial"
   ]
  },
  {
   "cell_type": "code",
   "execution_count": 84,
   "metadata": {
    "collapsed": false
   },
   "outputs": [],
   "source": [
    "np.random.seed(999)\n",
    "\n",
    "binom_KS_p_values = []\n",
    "binom_AD_p_values = []\n",
    "\n",
    "for n in mean_array:\n",
    "    p = 0.5\n",
    "    dist = (np.random.binomial(n, p, 1000) - n * p ) / np.sqrt(n * p * (1-p))\n",
    "    KS_p_value = scipy.stats.kstest(dist,'norm')[1]\n",
    "    binom_KS_p_values.append(KS_p_value)\n",
    "    AD_p_value = scipy.stats.anderson(dist,'norm')[1]\n",
    "    binom_AD_p_values.append(AD_p_value)\n",
    "    #ks_s_b[n] = scipy.stats.kstest(dist,'norm')\n",
    "    #print (scipy.stats.kstest(dist,'norm'))\n",
    "    #print (scipy.stats.anderson(dist, dist='norm'))\n",
    "    #ad_b[n] = scipy.stats.anderson(dist, dist='norm')[0]\n",
    "    #ad_b[n] = ad_b[n] / ad_b[0]\n",
    "    #print ad_b[n]\n",
    "  \n",
    "    # for KL and Pearson's chisq I have to simulate the normal distribution as well\n",
    "    #mybins = np.linspace(min(dist), max(dist), 10) \n",
    "    #bincenters = mybins[:-1] + 0.5 * (mybins[1] - mybins[0])\n",
    "\n",
    "    #when i was coding this up something was wrong. i put some plots in to figure out what... \n",
    "    # just so you know.\n",
    "    #if i%10 == 0: \n",
    "    #    pl.hist(dist, bins=mybins)\n",
    "    #    pl.plot(bincenters, scipy.stats.norm.pdf(bincenters)*1000)\n",
    "    #kl_b [n] =  scipy.stats.entropy(np.histogram(dist, bins=mybins)[0], \n",
    "    #                                scipy.stats.norm.pdf(bincenters) + n)"
   ]
  },
  {
   "cell_type": "code",
   "execution_count": 89,
   "metadata": {
    "collapsed": false
   },
   "outputs": [
    {
     "data": {
      "text/plain": [
       "[<matplotlib.lines.Line2D at 0x7f081ca7f910>]"
      ]
     },
     "execution_count": 89,
     "metadata": {},
     "output_type": "execute_result"
    },
    {
     "data": {
      "image/png": "[encoded data removed]",
      "text/plain": [
       "<matplotlib.figure.Figure at 0x7f081c6ad1d0>"
      ]
     },
     "metadata": {},
     "output_type": "display_data"
    }
   ],
   "source": [
    "#Plotting\n",
    "\n",
    "#KS Test\n",
    "fig = pl.figure(figsize = (15,5))\n",
    "fig.add_subplot(221)\n",
    "pl.plot(narray, ks_s_b, label='KS statistics')\n",
    "pl.plot(narray, ks_p_b, label='KS p-value')\n",
    "pl.legend()\n",
    "\n",
    "#AD Test\n",
    "fig.add_subplot(222)\n",
    "pl.plot(narray, ad_b,  label='AD statistics')\n",
    "pl.plot([narray[0], narray[-1]],[threshold, threshold], label=\"treshold\")\n",
    "pl.ylim(0,10) #limit the y range or you cannot see the relevant part\n",
    "pl.legend()\n",
    "\n",
    "#KL Test\n",
    "fig.add_subplot(223)\n",
    "pl.plot(narray, kl_b, label='K-L (entropy)')\n",
    "\n",
    "#Chi-Square Test\n",
    "fig.add_subplot(224)\n",
    "pl.plot(narray, kl_b, label='K-L (entropy)')\n",
    "\n",
    "pl.legend();"
   ]
  },
  {
   "cell_type": "markdown",
   "metadata": {},
   "source": [
    "---"
   ]
  },
  {
   "cell_type": "markdown",
   "metadata": {},
   "source": [
    "---\n"
   ]
  },
  {
   "cell_type": "markdown",
   "metadata": {},
   "source": [
    "## Poisson"
   ]
  },
  {
   "cell_type": "code",
   "execution_count": null,
   "metadata": {
    "collapsed": true
   },
   "outputs": [],
   "source": [
    "np.random.seed(999)\n",
    "narray = []\n",
    "for i,n in enumerate(narray):\n",
    "    lam = i \n",
    "    dist = (np.random.poisson(lam, 1000) - lam) * (1/np.sqrt(lam))\n",
    "    ks_stat_pois[i] = scipy.stats.kstest(dist,'norm')[0]\n",
    "    ks_pval_pois[i] = scipy.stats.kstest(dist,'norm')[1]\n",
    "    #ad_b[i] = scipy.stats.anderson(dist, dist='norm')[0]\n",
    "    #ad_b2[i] = ad_b[i] / ad_b[0]\n",
    "    #print ad_b2[i]\n",
    "  \n",
    "    # for KL and Pearson's chisq I have to simulate the normal distribution as well\n",
    "    mybins = np.linspace(min(dist), max(dist), 10) \n",
    "    bincenters = mybins[:-1] + 0.5 * (mybins[1] - mybins[0])\n",
    "\n",
    "    #when i was coding this up something was wrong. i put some plots in to figure out what... \n",
    "    # just so you know.\n",
    "    #if i%10 == 0: \n",
    "    #    pl.hist(dist, bins=mybins)\n",
    "    #    pl.plot(bincenters, scipy.stats.norm.pdf(bincenters)*1000)\n",
    "    kl_b [i] =  scipy.stats.entropy(np.histogram(dist, bins=mybins)[0], \n",
    "                                    scipy.stats.norm.pdf(bincenters) + n)"
   ]
  },
  {
   "cell_type": "code",
   "execution_count": null,
   "metadata": {
    "collapsed": false
   },
   "outputs": [],
   "source": [
    "#Plotting the Poisson\n",
    "\n",
    "#KS Test\n",
    "fig = pl.figure(figsize = (15,5))\n",
    "fig.add_subplot(221)\n",
    "pl.plot(narray, ks_s_b, label='KS statistics')\n",
    "pl.plot(narray, ks_p_b, label='KS p-value')\n",
    "pl.legend()\n",
    "\n",
    "#AD Test\n",
    "fig.add_subplot(222)\n",
    "pl.plot(narray, ad_b,  label='AD statistics')\n",
    "pl.plot([narray[0], narray[-1]],[threshold, threshold], label=\"treshold\")\n",
    "pl.ylim(0,10) #limit the y range or you cannot see the relevant part\n",
    "pl.legend()\n",
    "\n",
    "#KL Test\n",
    "fig.add_subplot(223)\n",
    "pl.plot(narray, kl_b, label='K-L (entropy)')\n",
    "\n",
    "#Chi-Square Test\n",
    "fig.add_subplot(224)\n",
    "pl.plot(narray, kl_b, label='K-L (entropy)')\n",
    "\n",
    "pl.legend();"
   ]
  },
  {
   "cell_type": "code",
   "execution_count": 118,
   "metadata": {
    "collapsed": false
   },
   "outputs": [],
   "source": []
  }
 ],
 "metadata": {
  "kernelspec": {
   "display_name": "PUI2016_Python2",
   "language": "python",
   "name": "pui2016_python2"
  },
  "language_info": {
   "codemirror_mode": {
    "name": "ipython",
    "version": 2
   },
   "file_extension": ".py",
   "mimetype": "text/x-python",
   "name": "python",
   "nbconvert_exporter": "python",
   "pygments_lexer": "ipython2",
   "version": "2.7.12"
  }
 },
 "nbformat": 4,
 "nbformat_minor": 0
}
