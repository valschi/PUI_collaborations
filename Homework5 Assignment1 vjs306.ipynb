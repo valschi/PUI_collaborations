{
 "cells": [
  {
   "cell_type": "markdown",
   "metadata": {},
   "source": [
    "## Homework 5 Assignment 1"
   ]
  },
  {
   "cell_type": "code",
   "execution_count": 1,
   "metadata": {
    "collapsed": false
   },
   "outputs": [
    {
     "name": "stdout",
     "output_type": "stream",
     "text": [
      "Populating the interactive namespace from numpy and matplotlib\n"
     ]
    }
   ],
   "source": [
    "#importing packages\n",
    "import os\n",
    "import numpy as np\n",
    "import pandas as pd\n",
    "import pylab as pl\n",
    "from scipy import stats\n",
    "import scipy.stats\n",
    "\n",
    "\n",
    "%pylab inline"
   ]
  },
  {
   "cell_type": "markdown",
   "metadata": {},
   "source": [
    "## Generate N samples from a distribution of your choice, but not a Gaussian with a chosen mean μ and standard deviation σ: N(μ, σ) and calculate the mean of each sample (all samples should have the same size n)."
   ]
  },
  {
   "cell_type": "markdown",
   "metadata": {},
   "source": [
    "Generating N = 100 samples of a Poisson distribution. All with mean = 1024 and std = 32. _(Remember for Poisson lambda = mean = variance)_\n",
    "\n",
    "I am going to create a dictionary for the 100 samples. Why? First, the random.poisson function returns an ndarray. So I need somewhere to easily store this output, and this will be the value of my dictionary for every key. The keys will simply be '0' through '99', for my 100 samples."
   ]
  },
  {
   "cell_type": "code",
   "execution_count": 2,
   "metadata": {
    "collapsed": false
   },
   "outputs": [
    {
     "data": {
      "image/png": "[encoded data removed]",
      "text/plain": [
       "<matplotlib.figure.Figure at 0x7f81871d6ed0>"
      ]
     },
     "metadata": {},
     "output_type": "display_data"
    },
    {
     "name": "stdout",
     "output_type": "stream",
     "text": [
      "Figure1: Poisson distribution with lambda = 1024\n"
     ]
    }
   ],
   "source": [
    "# Below is the distribution of my choice, a Poisson with mean (and lambda) of 100\n",
    "np.random.seed(999)\n",
    "\n",
    "mean = 1024\n",
    "size = 100\n",
    "\n",
    "pois = np.random.poisson(mean, size)\n",
    "pl.hist(pois)\n",
    "\n",
    "pl.hist(pois, label=\"Poisson\")\n",
    "pl.legend()\n",
    "pl.title(\"Poisson distribution of my choice\", size = 16)\n",
    "pl.xlabel('Means of the sample', size = 14);\n",
    "pl.ylabel('Sample#', size = 14);  \n",
    "\n",
    "\n",
    "pl.show()\n",
    "\n",
    "print (\"Figure1: Poisson distribution with lambda = 1024\")"
   ]
  },
  {
   "cell_type": "code",
   "execution_count": 3,
   "metadata": {
    "collapsed": false
   },
   "outputs": [],
   "source": [
    "np.random.seed(999)\n",
    "\n",
    "nSamples = {}\n",
    "\n",
    "lam = mean\n",
    "sigma = np.sqrt(lam)\n",
    "\n",
    "n = 100\n",
    "\n",
    "for i in range(n):\n",
    "    nSamples[i] = np.random.poisson(lam, n)\n",
    "\n",
    "#Now, to calculate the means for each of the samples, I am going to store that in ... an array\n",
    "# maybe I will change to a dictionary later? \n",
    "\n",
    "# for now I am going to create an array: \n",
    "sMeans = np.zeros(n,float)\n",
    "\n",
    "for i in range(n):\n",
    "    sMeans[i] = nSamples[i].mean()\n",
    "\n",
    "#print nSamples.keys()"
   ]
  },
  {
   "cell_type": "code",
   "execution_count": 4,
   "metadata": {
    "collapsed": false
   },
   "outputs": [],
   "source": [
    "#Printing just to make sure things make sense:\n",
    "#print nSamples[0] , nSamples[0].size\n",
    "#print nSamples[22] , nSamples[0].size"
   ]
  },
  {
   "cell_type": "code",
   "execution_count": 5,
   "metadata": {
    "collapsed": false
   },
   "outputs": [],
   "source": [
    "#Printing just to make sure things make sense:\n",
    "#print sMeans, sMeans.size"
   ]
  },
  {
   "cell_type": "code",
   "execution_count": 6,
   "metadata": {
    "collapsed": false
   },
   "outputs": [
    {
     "data": {
      "image/png": "[encoded data removed]",
      "text/plain": [
       "<matplotlib.figure.Figure at 0x7f81871d6dd0>"
      ]
     },
     "metadata": {},
     "output_type": "display_data"
    },
    {
     "name": "stdout",
     "output_type": "stream",
     "text": [
      "Figure2: Two Poisson samples\n"
     ]
    }
   ],
   "source": [
    "#Let's plot two of the samples to see how it looks like:\n",
    "pl.hist(nSamples[3]);\n",
    "pl.hist(nSamples[22]);\n",
    "\n",
    "pl.title(\"Two samples from Poisson Distribution\", size = 16)\n",
    "pl.xlabel('Means', size = 14);\n",
    "pl.ylabel('Values of Sample', size = 14);  \n",
    "\n",
    "\n",
    "pl.show()\n",
    "print (\"Figure2: Two Poisson samples\")"
   ]
  },
  {
   "cell_type": "markdown",
   "metadata": {},
   "source": [
    "### Assess the validity of the Z-test: \n",
    "### If the samples are drawn from the distribution you are testing the z-values you calculate should follow a N(0,1) distribution (a Gaussian with mean 0 and standard deviation 1). \n",
    "### Show that the distribution of z -statistics (find the formula in a statistics book or in last week’s slides) that you calculated (one for each sample) is indeed consistent with N(0,1)."
   ]
  },
  {
   "cell_type": "code",
   "execution_count": 7,
   "metadata": {
    "collapsed": true
   },
   "outputs": [],
   "source": [
    "np.random.seed(999)\n",
    "\n",
    "# zTest = (mean - mS) / sigma * sqrt(n)\n",
    "# mS is the means of each individual sample, out of the 100\n",
    "\n",
    "zScores = np.zeros(n,float)\n",
    "\n",
    "for i in range(n):\n",
    "    zScores[i] = (mean - sMeans[i]) / sigma * sqrt(n)\n",
    "\n",
    "gauss = np.random.normal(0, 1, 100)"
   ]
  },
  {
   "cell_type": "code",
   "execution_count": 8,
   "metadata": {
    "collapsed": false
   },
   "outputs": [
    {
     "data": {
      "image/png": "[encoded data removed]",
      "text/plain": [
       "<matplotlib.figure.Figure at 0x7f81871d6190>"
      ]
     },
     "metadata": {},
     "output_type": "display_data"
    },
    {
     "name": "stdout",
     "output_type": "stream",
     "text": [
      "Figure3: The figure above simply shows the values of the z Test for each of the means\n"
     ]
    }
   ],
   "source": [
    "## Plotting\n",
    "\n",
    "fig = pl.figure(figsize=(12,4)) \n",
    "ax = fig.add_subplot(121)\n",
    "\n",
    "ax.hist(zScores)\n",
    "#ax.hist(gauss,alpha=0.5)\n",
    "\n",
    "ax.set_title(\"Z scores values for each mean\", size = 14)\n",
    "ax.set_xlabel('X', size = 14);\n",
    "\n",
    "\n",
    "pl.show()\n",
    "print (\"Figure3: The figure above simply shows the values of the z Test for each of the means\")"
   ]
  },
  {
   "cell_type": "code",
   "execution_count": 9,
   "metadata": {
    "collapsed": false
   },
   "outputs": [
    {
     "data": {
      "image/png": "[encoded data removed]",
      "text/plain": [
       "<matplotlib.figure.Figure at 0x7f8184e08e90>"
      ]
     },
     "metadata": {},
     "output_type": "display_data"
    },
    {
     "name": "stdout",
     "output_type": "stream",
     "text": [
      "Figure4: The figure above shows to the left our histogram for the Z score values of our samples, and in orange a normal distribution on top with mu = 0 and std = 1 to the right we are fitting our z statistics with a gaussian model what we see is the difference between the two lines\n"
     ]
    }
   ],
   "source": [
    "### MORE PLOTTING\n",
    "\n",
    "# ***** First section *****\n",
    "# histogram of my Z scores and histogram of normal distribution\n",
    "\n",
    "fig = pl.figure(figsize=(12,4)) \n",
    "ax1 = fig.add_subplot(121)\n",
    "\n",
    "ax1.hist(zScores, alpha=0.5)\n",
    "ax1.hist(gauss,alpha=0.5)\n",
    "\n",
    "ax1.set_title(\"z Scores and normal distributions\", size = 14)\n",
    "ax1.set_xlabel('X', size = 14);\n",
    "\n",
    "# ***** Second section ***** \n",
    "# histogram of my Z scores and it's curve and a gaussian curve\n",
    "\n",
    "zScores_sorted = sorted(zScores)\n",
    "fit = (stats.norm.pdf(zScores_sorted,np.mean(zScores_sorted),np.std(zScores_sorted))*40)\n",
    "\n",
    "#the gaussian curve with mu = 0 and std 1\n",
    "mu = 0\n",
    "std = 1\n",
    "gauss_x = np.linspace(mu - 2*std, mu + 2*std, 100)\n",
    "\n",
    "ax2 = fig.add_subplot(122)\n",
    "ax2.hist(zScores, alpha=0.5)\n",
    "ax2.plot(zScores_sorted, fit, '-b')  \n",
    "ax2.plot(gauss_x,stats.norm.pdf(gauss_x,mu,std)*46)\n",
    "\n",
    "ax2.set_title(\"z Scores and its curve(blue),Gaussian(orange)\", size = 14)\n",
    "ax2.set_xlabel('X', size = 14);\n",
    "\n",
    "pl.show()\n",
    "print (\"Figure4: The figure above shows to the left our histogram for the Z score values\"\n",
    "       + \" of our samples, and in orange a normal distribution on top with mu = 0 and std = 1\"\n",
    "       + \" to the right we are fitting our z statistics with a gaussian model\"\n",
    "       + \" what we see is the difference between the two lines\")"
   ]
  },
  {
   "cell_type": "markdown",
   "metadata": {},
   "source": [
    "## We are now going to assess the fit with the KS and AD tests"
   ]
  },
  {
   "cell_type": "markdown",
   "metadata": {},
   "source": [
    "### $H_0$ =  The Z values from a 100 samples of a Poisson distribution follow a Normal distribution\n",
    "#### $\\alpha = 0.05$"
   ]
  },
  {
   "cell_type": "code",
   "execution_count": 12,
   "metadata": {
    "collapsed": false
   },
   "outputs": [
    {
     "name": "stdout",
     "output_type": "stream",
     "text": [
      "('Z Scores on normal', KstestResult(statistic=0.1323784316630332, pvalue=0.05468248937076825))\n",
      "('Z Scores on normal', AndersonResult(statistic=0.25323964177916025, critical_values=array([ 0.555,  0.632,  0.759,  0.885,  1.053]), significance_level=array([ 15. ,  10. ,   5. ,   2.5,   1. ])))\n",
      "\n"
     ]
    }
   ],
   "source": [
    "#generate the distribution\n",
    "alpha = 0.05\n",
    "np.random.seed(999)\n",
    "dist_n = np.random.randn(1000) \n",
    "\n",
    "#test ad and ks. those are easy\n",
    "print (\"Z Scores on normal\", scipy.stats.kstest(zScores,'norm'))\n",
    "print (\"Z Scores on normal\", scipy.stats.anderson(zScores, dist='norm'))\n",
    "print (\"\") "
   ]
  },
  {
   "cell_type": "markdown",
   "metadata": {},
   "source": [
    "### Conclusion:\n",
    "Using the __KS Test__ the pvalue of 0.054 is greater than my significance lever 0.05 so I __CANNOT__ reject my Null. \n",
    "# Question: This is troublesome, shouldn't it be a much large value??\n",
    "\n",
    "Using the __AD Test__ the statistic obtained 0.2532 is lower than the critical value for significance level of 5 (0.759), therefore I __CANNOT__ reject H0"
   ]
  },
  {
   "cell_type": "code",
   "execution_count": null,
   "metadata": {
    "collapsed": true
   },
   "outputs": [],
   "source": []
  }
 ],
 "metadata": {
  "kernelspec": {
   "display_name": "PUI2016_Python2",
   "language": "python",
   "name": "pui2016_python2"
  },
  "language_info": {
   "codemirror_mode": {
    "name": "ipython",
    "version": 2
   },
   "file_extension": ".py",
   "mimetype": "text/x-python",
   "name": "python",
   "nbconvert_exporter": "python",
   "pygments_lexer": "ipython2",
   "version": "2.7.12"
  }
 },
 "nbformat": 4,
 "nbformat_minor": 0
}
