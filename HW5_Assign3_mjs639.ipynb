{
 "cells": [
  {
   "cell_type": "code",
   "execution_count": 159,
   "metadata": {
    "collapsed": false
   },
   "outputs": [
    {
     "name": "stdout",
     "output_type": "stream",
     "text": [
      "Populating the interactive namespace from numpy and matplotlib\n"
     ]
    }
   ],
   "source": [
    "import pylab as pl\n",
    "import pandas as pd\n",
    "import numpy as np\n",
    "import os\n",
    "import statsmodels.api as sm\n",
    "%pylab inline"
   ]
  },
  {
   "cell_type": "markdown",
   "metadata": {
    "collapsed": false
   },
   "source": [
    "# Preparing The Data"
   ]
  },
  {
   "cell_type": "markdown",
   "metadata": {},
   "source": [
    "## Google Data"
   ]
  },
  {
   "cell_type": "code",
   "execution_count": 155,
   "metadata": {
    "collapsed": false
   },
   "outputs": [
    {
     "data": {
      "text/html": [
       "<div>\n",
       "<table border=\"1\" class=\"dataframe\">\n",
       "  <thead>\n",
       "    <tr style=\"text-align: right;\">\n",
       "      <th></th>\n",
       "      <th>Country</th>\n",
       "      <th>Gun Homicides</th>\n",
       "      <th>Average Total Civilian Firearms</th>\n",
       "    </tr>\n",
       "  </thead>\n",
       "  <tbody>\n",
       "    <tr>\n",
       "      <th>0</th>\n",
       "      <td>Albania</td>\n",
       "      <td>56.0</td>\n",
       "      <td>270000.0</td>\n",
       "    </tr>\n",
       "    <tr>\n",
       "      <th>1</th>\n",
       "      <td>Algeria</td>\n",
       "      <td>20.0</td>\n",
       "      <td>1900000.0</td>\n",
       "    </tr>\n",
       "    <tr>\n",
       "      <th>2</th>\n",
       "      <td>Angola</td>\n",
       "      <td>NaN</td>\n",
       "      <td>2800000.0</td>\n",
       "    </tr>\n",
       "    <tr>\n",
       "      <th>3</th>\n",
       "      <td>Anguilla</td>\n",
       "      <td>1.0</td>\n",
       "      <td>NaN</td>\n",
       "    </tr>\n",
       "    <tr>\n",
       "      <th>4</th>\n",
       "      <td>Argentina</td>\n",
       "      <td>1198.0</td>\n",
       "      <td>3950000.0</td>\n",
       "    </tr>\n",
       "  </tbody>\n",
       "</table>\n",
       "</div>"
      ],
      "text/plain": [
       "     Country  Gun Homicides  Average Total Civilian Firearms\n",
       "0    Albania           56.0                         270000.0\n",
       "1    Algeria           20.0                        1900000.0\n",
       "2     Angola            NaN                        2800000.0\n",
       "3   Anguilla            1.0                              NaN\n",
       "4  Argentina         1198.0                        3950000.0"
      ]
     },
     "execution_count": 155,
     "metadata": {},
     "output_type": "execute_result"
    }
   ],
   "source": [
    "#Import the data\n",
    "df1 = pd.read_csv(os.getenv(\"PUIDATA\") + \"/\" + 'World firearms murders and ownership - Sheet 1.csv')\n",
    "\n",
    "#Tidy it up\n",
    "df1.drop(['ISO code', 'Source', 'Rank by rate of ownership', '% of homicides by firearm', \n",
    "         'Homicide by firearm rate per 100,000 pop', 'Average firearms per 100 people'], axis=1, inplace=True)\n",
    "df1 = df1.rename(columns={'Country/Territory': 'Country', 'Number of homicides by firearm': 'Gun Homicides',\n",
    "                         'Average total all civilian firearms': 'Average Total Civilian Firearms'\n",
    "                         })\n",
    "\n",
    "#Show the head\n",
    "df1.head()"
   ]
  },
  {
   "cell_type": "markdown",
   "metadata": {},
   "source": [
    "## World Population Data, 2012"
   ]
  },
  {
   "cell_type": "code",
   "execution_count": 103,
   "metadata": {
    "collapsed": false
   },
   "outputs": [
    {
     "data": {
      "text/html": [
       "<div>\n",
       "<table border=\"1\" class=\"dataframe\">\n",
       "  <thead>\n",
       "    <tr style=\"text-align: right;\">\n",
       "      <th></th>\n",
       "      <th>Country</th>\n",
       "      <th>Population</th>\n",
       "    </tr>\n",
       "  </thead>\n",
       "  <tbody>\n",
       "    <tr>\n",
       "      <th>1</th>\n",
       "      <td>Aruba</td>\n",
       "      <td>102577.0</td>\n",
       "    </tr>\n",
       "    <tr>\n",
       "      <th>2</th>\n",
       "      <td>Afghanistan</td>\n",
       "      <td>30696958.0</td>\n",
       "    </tr>\n",
       "    <tr>\n",
       "      <th>3</th>\n",
       "      <td>Angola</td>\n",
       "      <td>25096150.0</td>\n",
       "    </tr>\n",
       "    <tr>\n",
       "      <th>4</th>\n",
       "      <td>Albania</td>\n",
       "      <td>2900401.0</td>\n",
       "    </tr>\n",
       "    <tr>\n",
       "      <th>5</th>\n",
       "      <td>Andorra</td>\n",
       "      <td>82431.0</td>\n",
       "    </tr>\n",
       "  </tbody>\n",
       "</table>\n",
       "</div>"
      ],
      "text/plain": [
       "0      Country  Population\n",
       "1        Aruba    102577.0\n",
       "2  Afghanistan  30696958.0\n",
       "3       Angola  25096150.0\n",
       "4      Albania   2900401.0\n",
       "5      Andorra     82431.0"
      ]
     },
     "execution_count": 103,
     "metadata": {},
     "output_type": "execute_result"
    }
   ],
   "source": [
    "#Import the data\n",
    "df2 = pd.read_csv(os.getenv(\"PUIDATA\") + \"/\" + 'API_SP.POP.TOTL_DS2_en_csv_v2.csv', skiprows=[0,1,2,3], header=None)\n",
    "\n",
    "#Tidy it up\n",
    "new_header = df2.iloc[0]\n",
    "df2 = df2[1:] \n",
    "df2.columns = new_header\n",
    "df2.drop(['Country Code', 'Indicator Name', 'Indicator Code', \n",
    "          1960.0, 1961.0, 1962.0, 1963.0, 1964.0, 1965.0, 1966.0, 1967.0, 1968.0, 1969.0,\n",
    "          1970.0, 1971.0, 1972.0, 1973.0, 1974.0, 1975.0, 1976.0, 1977.0, 1978.0, 1979.0,\n",
    "          1980.0, 1981.0, 1982.0, 1983.0, 1984.0, 1985.0, 1986.0, 1987.0, 1988.0, 1989.0,\n",
    "          1990.0, 1991.0, 1992.0, 1993.0, 1994.0, 1995.0, 1996.0, 1997.0, 1998.0, 1999.0,\n",
    "          2000.0, 2001.0, 2002.0, 2003.0, 2004.0, 2005.0, 2006.0, 2007.0, 2008.0, 2009.0,\n",
    "          2010.0, 2011.0, 2013.0, 2014.0, 2015.0, 2016.0, nan], axis=1, inplace = True)\n",
    "df2 = df2.rename(columns={2012.0: 'Population', 'Country Name': 'Country'})\n",
    "\n",
    "#Show the head\n",
    "df2.head()"
   ]
  },
  {
   "cell_type": "markdown",
   "metadata": {},
   "source": [
    "## World GDP Data, 2012"
   ]
  },
  {
   "cell_type": "code",
   "execution_count": 104,
   "metadata": {
    "collapsed": false
   },
   "outputs": [
    {
     "data": {
      "text/html": [
       "<div>\n",
       "<table border=\"1\" class=\"dataframe\">\n",
       "  <thead>\n",
       "    <tr style=\"text-align: right;\">\n",
       "      <th></th>\n",
       "      <th>Country</th>\n",
       "      <th>GDP</th>\n",
       "    </tr>\n",
       "  </thead>\n",
       "  <tbody>\n",
       "    <tr>\n",
       "      <th>1</th>\n",
       "      <td>Aruba</td>\n",
       "      <td>NaN</td>\n",
       "    </tr>\n",
       "    <tr>\n",
       "      <th>2</th>\n",
       "      <td>Afghanistan</td>\n",
       "      <td>2.053654e+10</td>\n",
       "    </tr>\n",
       "    <tr>\n",
       "      <th>3</th>\n",
       "      <td>Angola</td>\n",
       "      <td>1.153984e+11</td>\n",
       "    </tr>\n",
       "    <tr>\n",
       "      <th>4</th>\n",
       "      <td>Albania</td>\n",
       "      <td>1.231978e+10</td>\n",
       "    </tr>\n",
       "    <tr>\n",
       "      <th>5</th>\n",
       "      <td>Andorra</td>\n",
       "      <td>3.146152e+09</td>\n",
       "    </tr>\n",
       "  </tbody>\n",
       "</table>\n",
       "</div>"
      ],
      "text/plain": [
       "0      Country           GDP\n",
       "1        Aruba           NaN\n",
       "2  Afghanistan  2.053654e+10\n",
       "3       Angola  1.153984e+11\n",
       "4      Albania  1.231978e+10\n",
       "5      Andorra  3.146152e+09"
      ]
     },
     "execution_count": 104,
     "metadata": {},
     "output_type": "execute_result"
    }
   ],
   "source": [
    "#Import the data\n",
    "df3 = pd.read_csv(os.getenv(\"PUIDATA\") + \"/\" + 'API_NY.GDP.MKTP.CD_DS2_en_csv_v2.csv', skiprows=[0,1,2,3], header=None)\n",
    "\n",
    "#Tidy it up\n",
    "new_header = df3.iloc[0]\n",
    "df3 = df3[1:] \n",
    "df3.columns = new_header\n",
    "df3.drop(['Country Code', 'Indicator Name', 'Indicator Code', \n",
    "          1960.0, 1961.0, 1962.0, 1963.0, 1964.0, 1965.0, 1966.0, 1967.0, 1968.0, 1969.0,\n",
    "          1970.0, 1971.0, 1972.0, 1973.0, 1974.0, 1975.0, 1976.0, 1977.0, 1978.0, 1979.0,\n",
    "          1980.0, 1981.0, 1982.0, 1983.0, 1984.0, 1985.0, 1986.0, 1987.0, 1988.0, 1989.0,\n",
    "          1990.0, 1991.0, 1992.0, 1993.0, 1994.0, 1995.0, 1996.0, 1997.0, 1998.0, 1999.0,\n",
    "          2000.0, 2001.0, 2002.0, 2003.0, 2004.0, 2005.0, 2006.0, 2007.0, 2008.0, 2009.0,\n",
    "          2010.0, 2011.0, 2013.0, 2014.0, 2015.0, 2016.0, nan], axis=1, inplace = True)\n",
    "df3 = df3.rename(columns={2012.0: 'GDP', 'Country Name': 'Country'})\n",
    "\n",
    "#Show the head\n",
    "df3.head()"
   ]
  },
  {
   "cell_type": "markdown",
   "metadata": {},
   "source": [
    "## Shooting Data, 2012"
   ]
  },
  {
   "cell_type": "code",
   "execution_count": 105,
   "metadata": {
    "collapsed": false
   },
   "outputs": [
    {
     "data": {
      "text/html": [
       "<div>\n",
       "<table border=\"1\" class=\"dataframe\">\n",
       "  <thead>\n",
       "    <tr style=\"text-align: right;\">\n",
       "      <th></th>\n",
       "      <th>Country</th>\n",
       "      <th>Guns/100 inhabitants</th>\n",
       "      <th>Number of mass shootings</th>\n",
       "    </tr>\n",
       "  </thead>\n",
       "  <tbody>\n",
       "    <tr>\n",
       "      <th>0</th>\n",
       "      <td>Australia</td>\n",
       "      <td>15.0</td>\n",
       "      <td>4</td>\n",
       "    </tr>\n",
       "    <tr>\n",
       "      <th>1</th>\n",
       "      <td>Austria</td>\n",
       "      <td>30.4</td>\n",
       "      <td>1</td>\n",
       "    </tr>\n",
       "    <tr>\n",
       "      <th>2</th>\n",
       "      <td>Beligium</td>\n",
       "      <td>17.2</td>\n",
       "      <td>2</td>\n",
       "    </tr>\n",
       "    <tr>\n",
       "      <th>3</th>\n",
       "      <td>Canada</td>\n",
       "      <td>30.8</td>\n",
       "      <td>4</td>\n",
       "    </tr>\n",
       "    <tr>\n",
       "      <th>4</th>\n",
       "      <td>Denmark</td>\n",
       "      <td>12.0</td>\n",
       "      <td>0</td>\n",
       "    </tr>\n",
       "  </tbody>\n",
       "</table>\n",
       "</div>"
      ],
      "text/plain": [
       "     Country  Guns/100 inhabitants  Number of mass shootings\n",
       "0  Australia                  15.0                         4\n",
       "1    Austria                  30.4                         1\n",
       "2   Beligium                  17.2                         2\n",
       "3     Canada                  30.8                         4\n",
       "4    Denmark                  12.0                         0"
      ]
     },
     "execution_count": 105,
     "metadata": {},
     "output_type": "execute_result"
    }
   ],
   "source": [
    "#Import the data\n",
    "df4 = pd.read_csv(os.getenv('PUIDATA') + '/' + 'data-pvLFI.csv')\n",
    "\n",
    "#Show the head\n",
    "df4.head()"
   ]
  },
  {
   "cell_type": "markdown",
   "metadata": {},
   "source": [
    "## Merging Them Together"
   ]
  },
  {
   "cell_type": "code",
   "execution_count": 106,
   "metadata": {
    "collapsed": false
   },
   "outputs": [
    {
     "data": {
      "text/html": [
       "<div>\n",
       "<table border=\"1\" class=\"dataframe\">\n",
       "  <thead>\n",
       "    <tr style=\"text-align: right;\">\n",
       "      <th></th>\n",
       "      <th>Country</th>\n",
       "      <th>Gun Homicides</th>\n",
       "      <th>Average Total Civilian Firearms</th>\n",
       "      <th>Guns/100 inhabitants</th>\n",
       "      <th>Number of mass shootings</th>\n",
       "      <th>Population</th>\n",
       "      <th>GDP</th>\n",
       "    </tr>\n",
       "  </thead>\n",
       "  <tbody>\n",
       "    <tr>\n",
       "      <th>0</th>\n",
       "      <td>Australia</td>\n",
       "      <td>30.0</td>\n",
       "      <td>3050000.0</td>\n",
       "      <td>15.0</td>\n",
       "      <td>4</td>\n",
       "      <td>22728254.0</td>\n",
       "      <td>1.538194e+12</td>\n",
       "    </tr>\n",
       "    <tr>\n",
       "      <th>1</th>\n",
       "      <td>Austria</td>\n",
       "      <td>18.0</td>\n",
       "      <td>2500000.0</td>\n",
       "      <td>30.4</td>\n",
       "      <td>1</td>\n",
       "      <td>8429991.0</td>\n",
       "      <td>4.074516e+11</td>\n",
       "    </tr>\n",
       "    <tr>\n",
       "      <th>2</th>\n",
       "      <td>Canada</td>\n",
       "      <td>173.0</td>\n",
       "      <td>9950000.0</td>\n",
       "      <td>30.8</td>\n",
       "      <td>4</td>\n",
       "      <td>34750545.0</td>\n",
       "      <td>1.824289e+12</td>\n",
       "    </tr>\n",
       "    <tr>\n",
       "      <th>3</th>\n",
       "      <td>Denmark</td>\n",
       "      <td>15.0</td>\n",
       "      <td>650000.0</td>\n",
       "      <td>12.0</td>\n",
       "      <td>0</td>\n",
       "      <td>5591572.0</td>\n",
       "      <td>3.271489e+11</td>\n",
       "    </tr>\n",
       "    <tr>\n",
       "      <th>4</th>\n",
       "      <td>Finland</td>\n",
       "      <td>24.0</td>\n",
       "      <td>2400000.0</td>\n",
       "      <td>45.3</td>\n",
       "      <td>2</td>\n",
       "      <td>5413971.0</td>\n",
       "      <td>2.567065e+11</td>\n",
       "    </tr>\n",
       "    <tr>\n",
       "      <th>5</th>\n",
       "      <td>France</td>\n",
       "      <td>35.0</td>\n",
       "      <td>19000000.0</td>\n",
       "      <td>31.2</td>\n",
       "      <td>6</td>\n",
       "      <td>65659790.0</td>\n",
       "      <td>2.681416e+12</td>\n",
       "    </tr>\n",
       "    <tr>\n",
       "      <th>6</th>\n",
       "      <td>Germany</td>\n",
       "      <td>158.0</td>\n",
       "      <td>25000000.0</td>\n",
       "      <td>30.3</td>\n",
       "      <td>7</td>\n",
       "      <td>80425823.0</td>\n",
       "      <td>3.543984e+12</td>\n",
       "    </tr>\n",
       "    <tr>\n",
       "      <th>7</th>\n",
       "      <td>Greece</td>\n",
       "      <td>29.0</td>\n",
       "      <td>2500000.0</td>\n",
       "      <td>22.5</td>\n",
       "      <td>0</td>\n",
       "      <td>11045011.0</td>\n",
       "      <td>2.456707e+11</td>\n",
       "    </tr>\n",
       "    <tr>\n",
       "      <th>8</th>\n",
       "      <td>Hungary</td>\n",
       "      <td>7.0</td>\n",
       "      <td>560000.0</td>\n",
       "      <td>5.5</td>\n",
       "      <td>0</td>\n",
       "      <td>9920362.0</td>\n",
       "      <td>1.273211e+11</td>\n",
       "    </tr>\n",
       "    <tr>\n",
       "      <th>9</th>\n",
       "      <td>Iceland</td>\n",
       "      <td>0.0</td>\n",
       "      <td>90000.0</td>\n",
       "      <td>30.3</td>\n",
       "      <td>0</td>\n",
       "      <td>320716.0</td>\n",
       "      <td>1.421858e+10</td>\n",
       "    </tr>\n",
       "    <tr>\n",
       "      <th>10</th>\n",
       "      <td>Ireland</td>\n",
       "      <td>21.0</td>\n",
       "      <td>360000.0</td>\n",
       "      <td>8.6</td>\n",
       "      <td>0</td>\n",
       "      <td>4586897.0</td>\n",
       "      <td>2.258192e+11</td>\n",
       "    </tr>\n",
       "    <tr>\n",
       "      <th>11</th>\n",
       "      <td>Italy</td>\n",
       "      <td>417.0</td>\n",
       "      <td>7000000.0</td>\n",
       "      <td>11.9</td>\n",
       "      <td>0</td>\n",
       "      <td>59539717.0</td>\n",
       "      <td>2.072823e+12</td>\n",
       "    </tr>\n",
       "    <tr>\n",
       "      <th>12</th>\n",
       "      <td>Japan</td>\n",
       "      <td>11.0</td>\n",
       "      <td>710000.0</td>\n",
       "      <td>0.6</td>\n",
       "      <td>0</td>\n",
       "      <td>127629000.0</td>\n",
       "      <td>6.203213e+12</td>\n",
       "    </tr>\n",
       "    <tr>\n",
       "      <th>13</th>\n",
       "      <td>Luxembourg</td>\n",
       "      <td>3.0</td>\n",
       "      <td>70000.0</td>\n",
       "      <td>15.3</td>\n",
       "      <td>0</td>\n",
       "      <td>530946.0</td>\n",
       "      <td>5.667796e+10</td>\n",
       "    </tr>\n",
       "    <tr>\n",
       "      <th>14</th>\n",
       "      <td>New Zealand</td>\n",
       "      <td>7.0</td>\n",
       "      <td>925000.0</td>\n",
       "      <td>22.6</td>\n",
       "      <td>3</td>\n",
       "      <td>4408100.0</td>\n",
       "      <td>1.761929e+11</td>\n",
       "    </tr>\n",
       "    <tr>\n",
       "      <th>15</th>\n",
       "      <td>Norway</td>\n",
       "      <td>2.0</td>\n",
       "      <td>1400000.0</td>\n",
       "      <td>31.3</td>\n",
       "      <td>1</td>\n",
       "      <td>5018573.0</td>\n",
       "      <td>5.097049e+11</td>\n",
       "    </tr>\n",
       "    <tr>\n",
       "      <th>16</th>\n",
       "      <td>Poland</td>\n",
       "      <td>35.0</td>\n",
       "      <td>510000.0</td>\n",
       "      <td>1.3</td>\n",
       "      <td>0</td>\n",
       "      <td>38063164.0</td>\n",
       "      <td>5.003443e+11</td>\n",
       "    </tr>\n",
       "    <tr>\n",
       "      <th>17</th>\n",
       "      <td>Portugal</td>\n",
       "      <td>44.0</td>\n",
       "      <td>900000.0</td>\n",
       "      <td>8.5</td>\n",
       "      <td>1</td>\n",
       "      <td>10514844.0</td>\n",
       "      <td>2.163682e+11</td>\n",
       "    </tr>\n",
       "    <tr>\n",
       "      <th>18</th>\n",
       "      <td>Spain</td>\n",
       "      <td>90.0</td>\n",
       "      <td>4500000.0</td>\n",
       "      <td>10.4</td>\n",
       "      <td>1</td>\n",
       "      <td>46773055.0</td>\n",
       "      <td>1.335946e+12</td>\n",
       "    </tr>\n",
       "    <tr>\n",
       "      <th>19</th>\n",
       "      <td>Sweden</td>\n",
       "      <td>37.0</td>\n",
       "      <td>2800000.0</td>\n",
       "      <td>31.6</td>\n",
       "      <td>2</td>\n",
       "      <td>9519374.0</td>\n",
       "      <td>5.438806e+11</td>\n",
       "    </tr>\n",
       "    <tr>\n",
       "      <th>20</th>\n",
       "      <td>Switzerland</td>\n",
       "      <td>57.0</td>\n",
       "      <td>3400000.0</td>\n",
       "      <td>45.7</td>\n",
       "      <td>2</td>\n",
       "      <td>7996861.0</td>\n",
       "      <td>6.650541e+11</td>\n",
       "    </tr>\n",
       "    <tr>\n",
       "      <th>21</th>\n",
       "      <td>United States</td>\n",
       "      <td>9146.0</td>\n",
       "      <td>270000000.0</td>\n",
       "      <td>88.8</td>\n",
       "      <td>78</td>\n",
       "      <td>313998379.0</td>\n",
       "      <td>1.615526e+13</td>\n",
       "    </tr>\n",
       "  </tbody>\n",
       "</table>\n",
       "</div>"
      ],
      "text/plain": [
       "          Country  Gun Homicides  Average Total Civilian Firearms  \\\n",
       "0       Australia           30.0                        3050000.0   \n",
       "1         Austria           18.0                        2500000.0   \n",
       "2          Canada          173.0                        9950000.0   \n",
       "3         Denmark           15.0                         650000.0   \n",
       "4         Finland           24.0                        2400000.0   \n",
       "5          France           35.0                       19000000.0   \n",
       "6         Germany          158.0                       25000000.0   \n",
       "7          Greece           29.0                        2500000.0   \n",
       "8         Hungary            7.0                         560000.0   \n",
       "9         Iceland            0.0                          90000.0   \n",
       "10        Ireland           21.0                         360000.0   \n",
       "11          Italy          417.0                        7000000.0   \n",
       "12          Japan           11.0                         710000.0   \n",
       "13     Luxembourg            3.0                          70000.0   \n",
       "14    New Zealand            7.0                         925000.0   \n",
       "15         Norway            2.0                        1400000.0   \n",
       "16         Poland           35.0                         510000.0   \n",
       "17       Portugal           44.0                         900000.0   \n",
       "18          Spain           90.0                        4500000.0   \n",
       "19         Sweden           37.0                        2800000.0   \n",
       "20    Switzerland           57.0                        3400000.0   \n",
       "21  United States         9146.0                      270000000.0   \n",
       "\n",
       "    Guns/100 inhabitants  Number of mass shootings   Population           GDP  \n",
       "0                   15.0                         4   22728254.0  1.538194e+12  \n",
       "1                   30.4                         1    8429991.0  4.074516e+11  \n",
       "2                   30.8                         4   34750545.0  1.824289e+12  \n",
       "3                   12.0                         0    5591572.0  3.271489e+11  \n",
       "4                   45.3                         2    5413971.0  2.567065e+11  \n",
       "5                   31.2                         6   65659790.0  2.681416e+12  \n",
       "6                   30.3                         7   80425823.0  3.543984e+12  \n",
       "7                   22.5                         0   11045011.0  2.456707e+11  \n",
       "8                    5.5                         0    9920362.0  1.273211e+11  \n",
       "9                   30.3                         0     320716.0  1.421858e+10  \n",
       "10                   8.6                         0    4586897.0  2.258192e+11  \n",
       "11                  11.9                         0   59539717.0  2.072823e+12  \n",
       "12                   0.6                         0  127629000.0  6.203213e+12  \n",
       "13                  15.3                         0     530946.0  5.667796e+10  \n",
       "14                  22.6                         3    4408100.0  1.761929e+11  \n",
       "15                  31.3                         1    5018573.0  5.097049e+11  \n",
       "16                   1.3                         0   38063164.0  5.003443e+11  \n",
       "17                   8.5                         1   10514844.0  2.163682e+11  \n",
       "18                  10.4                         1   46773055.0  1.335946e+12  \n",
       "19                  31.6                         2    9519374.0  5.438806e+11  \n",
       "20                  45.7                         2    7996861.0  6.650541e+11  \n",
       "21                  88.8                        78  313998379.0  1.615526e+13  "
      ]
     },
     "execution_count": 106,
     "metadata": {},
     "output_type": "execute_result"
    }
   ],
   "source": [
    "merge1 = pd.merge(df1, df4, on='Country')\n",
    "merge2 = pd.merge(merge1, df2, on='Country')\n",
    "df = pd.merge(merge2, df3, on='Country')\n",
    "df.head(30)"
   ]
  },
  {
   "cell_type": "markdown",
   "metadata": {},
   "source": [
    "-----"
   ]
  },
  {
   "cell_type": "markdown",
   "metadata": {},
   "source": [
    "# Exploring The Data"
   ]
  },
  {
   "cell_type": "markdown",
   "metadata": {},
   "source": [
    "## 1 - Mass Shooting vs. GDP"
   ]
  },
  {
   "cell_type": "code",
   "execution_count": 156,
   "metadata": {
    "collapsed": false
   },
   "outputs": [
    {
     "data": {
      "image/png": "[encoded data removed]",
      "text/plain": [
       "<matplotlib.figure.Figure at 0x7f3291084fd0>"
      ]
     },
     "metadata": {},
     "output_type": "display_data"
    },
    {
     "name": "stdout",
     "output_type": "stream",
     "text": [
      "Number of mass shooting vs GDP, errors represent Poisson statistics.\n",
      "The datapoint to the top right of the plot is the USA, which has both the highest GDP and the highest number of mass shootings\n"
     ]
    }
   ],
   "source": [
    "fig = pl.figure(figsize=(10,8)) \n",
    "ax = fig.add_subplot(111)\n",
    "\n",
    "scatter = ax.scatter((df['GDP'] / 1e9), df['Number of mass shootings'])\n",
    "ax.errorbar((df['GDP'] / 1e9), df['Number of mass shootings'], \n",
    "            yerr = np.sqrt(df['Number of mass shootings'] * 1.0), \n",
    "            fmt = '.')\n",
    "ax.set_xlabel(\"GDP (in billions)\")\n",
    "ax.set_ylabel(\"Number of mass shooting\")\n",
    "ax.set_ylim()\n",
    "pl.show()\n",
    "print (\"Number of mass shooting vs GDP, \" + \n",
    "       \"errors represent Poisson statistics.\\n\" + \n",
    "       \"The datapoint to the top right of the plot is the USA, \" + \n",
    "       \"which has both the highest GDP and the highest number of mass shootings\")"
   ]
  },
  {
   "cell_type": "markdown",
   "metadata": {},
   "source": [
    "## 2 - Mass Shooting vs. Population"
   ]
  },
  {
   "cell_type": "code",
   "execution_count": 122,
   "metadata": {
    "collapsed": false
   },
   "outputs": [
    {
     "data": {
      "image/png": "[encoded data removed]",
      "text/plain": [
       "<matplotlib.figure.Figure at 0x7f3290e6b990>"
      ]
     },
     "metadata": {},
     "output_type": "display_data"
    },
    {
     "name": "stdout",
     "output_type": "stream",
     "text": [
      "Number of mass shooting vs population, errors represent Poisson statistics.\n",
      "The datapoint to the top right of the plot is the USA, which has both the highest population and the highest number of mass shootings\n"
     ]
    }
   ],
   "source": [
    "fig = pl.figure(figsize=(10,8)) \n",
    "ax = fig.add_subplot(111)\n",
    "\n",
    "scatter = ax.scatter((df['Population'] / 1000), df['Number of mass shootings'])\n",
    "ax.set_xlabel(\"Population (in thousands)\")\n",
    "ax.set_ylabel(\"Number of mass shooting per person\")\n",
    "ax.set_ylim()\n",
    "pl.show()\n",
    "print (\"Number of mass shooting vs population, \" + \n",
    "       \"errors represent Poisson statistics.\\n\" + \n",
    "       \"The datapoint to the top right of the plot is the USA, \" + \n",
    "       \"which has both the highest population and the highest number of mass shootings\")"
   ]
  },
  {
   "cell_type": "markdown",
   "metadata": {},
   "source": [
    "## 3 - Average Number of Civilian Firearms per Person"
   ]
  },
  {
   "cell_type": "code",
   "execution_count": 177,
   "metadata": {
    "collapsed": false
   },
   "outputs": [
    {
     "data": {
      "image/png": "[encoded data removed]",
      "text/plain": [
       "<matplotlib.figure.Figure at 0x7f3290e7bd90>"
      ]
     },
     "metadata": {},
     "output_type": "display_data"
    },
    {
     "name": "stdout",
     "output_type": "stream",
     "text": [
      "Number of civilian firearms vs population, errors represent Poisson statistics.\n",
      "The datapoint to the top right of the plot is the USA, which has both the highest population and the highest number of civilian firearms\n"
     ]
    }
   ],
   "source": [
    "fig = pl.figure(figsize=(15,6)) \n",
    "\n",
    "#Without Errors\n",
    "ax1 = fig.add_subplot(121)\n",
    "scatter = ax1.scatter((df['Population'] / 1000), (df['Average Total Civilian Firearms'] / 1000))\n",
    "ax1.set_xlabel(\"Population (in thousands)\")\n",
    "ax1.set_ylabel(\"Number of civilian firearms (in thousands)\")\n",
    "ax1.set_ylim()\n",
    "\n",
    "\n",
    "#With Errors\n",
    "ax2 = fig.add_subplot(122)\n",
    "scatter = ax2.scatter((df['Population'] / 1000), (df['Average Total Civilian Firearms'] / 1000))\n",
    "ax2.errorbar((df['Population'] / 1000), (df['Average Total Civilian Firearms'] / 1000),\n",
    "            yerr = np.sqrt(df['Average Total Civilian Firearms'] * 1.0), fmt = '.')\n",
    "ax2.set_xlabel(\"Population (in thousands)\")\n",
    "ax2.set_ylabel(\"Number of civilian firearms (in thousands)\")\n",
    "ax2.set_ylim()\n",
    "\n",
    "pl.show()\n",
    "print (\"Number of civilian firearms vs population, \" + \n",
    "       \"errors represent Poisson statistics.\\n\" + \n",
    "       \"The datapoint to the top right of the plot is the USA, \" + \n",
    "       \"which has both the highest population and the highest number of civilian firearms\")"
   ]
  },
  {
   "cell_type": "markdown",
   "metadata": {},
   "source": [
    "## 4 - Average Number of Homicides by Firearm per Person"
   ]
  },
  {
   "cell_type": "code",
   "execution_count": 189,
   "metadata": {
    "collapsed": false
   },
   "outputs": [
    {
     "data": {
      "image/png": "[encoded data removed]",
      "text/plain": [
       "<matplotlib.figure.Figure at 0x7f322c652510>"
      ]
     },
     "metadata": {},
     "output_type": "display_data"
    }
   ],
   "source": [
    "fig, ax = plt.subplots()\n",
    "ax.hist(df['Gun Homicides'] / df['Population'] * 1000)\n",
    "ax.set_xlabel('Homicides by firearm per 1000 people');"
   ]
  },
  {
   "cell_type": "markdown",
   "metadata": {},
   "source": [
    "## 5 - Average Number of Homicides by Firearm vs. GDP"
   ]
  },
  {
   "cell_type": "code",
   "execution_count": 184,
   "metadata": {
    "collapsed": false
   },
   "outputs": [
    {
     "data": {
      "image/png": "[encoded data removed]",
      "text/plain": [
       "<matplotlib.figure.Figure at 0x7f323871a510>"
      ]
     },
     "metadata": {},
     "output_type": "display_data"
    },
    {
     "name": "stdout",
     "output_type": "stream",
     "text": [
      "Number of homicides by firearm vs GDP, errors represent Poisson statistics.\n",
      "The datapoint to the top right of the plot is the USA, which has both the highest GDP and the highest number of homicides by firearm\n"
     ]
    }
   ],
   "source": [
    "fig = pl.figure(figsize=(10,8)) \n",
    "ax = fig.add_subplot(111)\n",
    "\n",
    "scatter = ax.scatter((df['GDP'] / 1e9), df['Gun Homicides']) \n",
    "ax.errorbar((df['GDP'] / 1e9), df['Gun Homicides'], \n",
    "            yerr = np.sqrt(df['Gun Homicides'] * 1.0),\n",
    "            fmt = '.')\n",
    "ax.set_xlabel(\"GDP (in billions)\")\n",
    "ax.set_ylabel(\"Number of homicides by firearm\")\n",
    "ax.set_ylim()\n",
    "pl.show()\n",
    "print (\"Number of homicides by firearm vs GDP, \" + \n",
    "       \"errors represent Poisson statistics.\\n\" + \n",
    "       \"The datapoint to the top right of the plot is the USA, \" + \n",
    "       \"which has both the highest GDP and the highest number of homicides by firearm\")"
   ]
  },
  {
   "cell_type": "markdown",
   "metadata": {},
   "source": [
    "## 6 - Number of Homicides by Firearm vs. Number of Civilian Firearms"
   ]
  },
  {
   "cell_type": "code",
   "execution_count": 154,
   "metadata": {
    "collapsed": false
   },
   "outputs": [
    {
     "data": {
      "image/png": "[encoded data removed]",
      "text/plain": [
       "<matplotlib.figure.Figure at 0x7f3290afd710>"
      ]
     },
     "metadata": {},
     "output_type": "display_data"
    },
    {
     "name": "stdout",
     "output_type": "stream",
     "text": [
      "Number of homicides by firearm vs number of civilian firearms, errors represent Poisson statistics.\n",
      "The datapoint to the top right of the plot is the USA, which has both the highest number of homicides by firearm and the highest number of civilian firearms\n"
     ]
    }
   ],
   "source": [
    "fig = pl.figure(figsize=(15,6)) \n",
    "\n",
    "#Without Errors\n",
    "ax1 = fig.add_subplot(121)\n",
    "scatter = ax1.scatter((df['Average Total Civilian Firearms'] / 1000), df['Gun Homicides'])\n",
    "scatterUSA = ax1.scatter((df['Average Total Civilian Firearms'][21]) / 1000, df['Gun Homicides'][21], c='r')\n",
    "ax1.set_xlabel(\"Number of civilian firearms (in thousands)\")\n",
    "ax1.set_ylabel(\"Number of homicides by firearm\")\n",
    "ax1.set_ylim()\n",
    "\n",
    "\n",
    "#With Errors\n",
    "ax2 = fig.add_subplot(122)\n",
    "scatter = ax2.scatter((df['Average Total Civilian Firearms'] / 1000), df['Gun Homicides'])\n",
    "scatterUSA = ax2.scatter((df['Average Total Civilian Firearms'][21]) / 1000, df['Gun Homicides'][21], c='r')\n",
    "ax2.errorbar((df['Average Total Civilian Firearms'] / 1000), df['Gun Homicides'],\n",
    "                yerr = np.sqrt(df['Gun Homicides'] * 1.0),\n",
    "                xerr = np.sqrt(df['Average Total Civilian Firearms'] * 1.0), fmt = '.')\n",
    "ax2.errorbar((df['Average Total Civilian Firearms'][21] / 1000), df['Gun Homicides'][21],\n",
    "                yerr = np.sqrt(df['Gun Homicides'][21] * 1.0),\n",
    "                xerr = np.sqrt(df['Average Total Civilian Firearms'][21] * 1.0), fmt = '.')\n",
    "ax2.set_xlabel(\"Number of civilian firearms (in thousands)\")\n",
    "ax2.set_ylabel(\"Number of homicides by firearm\")\n",
    "ax2.set_ylim()\n",
    "\n",
    "pl.show()\n",
    "print (\"Number of homicides by firearm vs number of civilian firearms, \" + \n",
    "       \"errors represent Poisson statistics.\\n\" + \n",
    "       \"The datapoint to the top right of the plot is the USA, \" + \n",
    "       \"which has both the highest number of homicides by firearm and the highest number of civilian firearms\")"
   ]
  },
  {
   "cell_type": "markdown",
   "metadata": {},
   "source": [
    "## 7 - Number of Mass Shootings vs. Number of Civilian Firearms"
   ]
  },
  {
   "cell_type": "code",
   "execution_count": 153,
   "metadata": {
    "collapsed": false
   },
   "outputs": [
    {
     "data": {
      "image/png": "[encoded data removed]",
      "text/plain": [
       "<matplotlib.figure.Figure at 0x7f32909e2c50>"
      ]
     },
     "metadata": {},
     "output_type": "display_data"
    },
    {
     "name": "stdout",
     "output_type": "stream",
     "text": [
      "Number of mass shootings vs number of civilian firearms, errors represent Poisson statistics.\n",
      "The datapoint to the top right of the plot is the USA, which has both the highest number of mass shootings and the highest number of civilian fire arms\n"
     ]
    }
   ],
   "source": [
    "fig = pl.figure(figsize=(15,6)) \n",
    "\n",
    "#Without Errors\n",
    "ax1 = fig.add_subplot(121)\n",
    "scatter = ax1.scatter((df['Average Total Civilian Firearms'] / 1000), df['Number of mass shootings'])\n",
    "scatterUSA = ax1.scatter((df['Average Total Civilian Firearms'][21]) / 1000, df['Number of mass shootings'][21], c='r')\n",
    "ax1.set_xlabel(\"Number of civilian firearms (in thousands)\")\n",
    "ax1.set_ylabel(\"Number of mass shootings\")\n",
    "ax1.set_ylim()\n",
    "\n",
    "\n",
    "#With Errors\n",
    "ax2 = fig.add_subplot(122)\n",
    "scatter = ax2.scatter((df['Average Total Civilian Firearms'] / 1000), df['Number of mass shootings'])\n",
    "scatterUSA = ax2.scatter((df['Average Total Civilian Firearms'][21]) / 1000, df['Number of mass shootings'][21], c='r')\n",
    "ax2.errorbar((df['Average Total Civilian Firearms'] / 1000), df['Number of mass shootings'], \n",
    "                     xerr = np.sqrt(df['Average Total Civilian Firearms'] * 1.0), fmt = '.')\n",
    "ax2.errorbar((df['Average Total Civilian Firearms'][21] / 1000), df['Number of mass shootings'][21], \n",
    "                     xerr = np.sqrt(df['Average Total Civilian Firearms'][21] * 1.0), fmt = '.', c='r')\n",
    "ax2.set_xlabel(\"Number of civilian firearms (in thousands)\")\n",
    "ax2.set_ylabel(\"Number of mass shootings\")\n",
    "ax2.set_ylim()\n",
    "\n",
    "pl.show()\n",
    "print (\"Number of mass shootings vs number of civilian firearms, \" + \n",
    "       \"errors represent Poisson statistics.\\n\" + \n",
    "       \"The datapoint to the top right of the plot is the USA, \" + \n",
    "       \"which has both the highest number of mass shootings and the highest number of civilian fire arms\");"
   ]
  },
  {
   "cell_type": "markdown",
   "metadata": {},
   "source": [
    "---"
   ]
  },
  {
   "cell_type": "markdown",
   "metadata": {},
   "source": [
    "# Modeling The Data"
   ]
  },
  {
   "cell_type": "code",
   "execution_count": 208,
   "metadata": {
    "collapsed": false
   },
   "outputs": [
    {
     "data": {
      "image/png": "[encoded data removed]",
      "text/plain": [
       "<matplotlib.figure.Figure at 0x7f322be669d0>"
      ]
     },
     "metadata": {},
     "output_type": "display_data"
    }
   ],
   "source": [
    "y = df['Number of mass shootings'] \n",
    "x = df['Average Total Civilian Firearms'] / 1000000\n",
    "#x is in millions\n",
    "\n",
    "rmO = sm.OLS(endog = y, exog = x).fit()\n",
    "rmW = sm.WLS(endog = y, exog = x).fit()\n",
    "\n",
    "pl.plot(x,y,'.')\n",
    "yerr=np.abs(y)**0.5\n",
    "pl.errorbar(x,y,yerr=np.abs(y)**0.5, fmt='.')\n",
    "pl.plot(x,rmW.fittedvalues,'-');"
   ]
  },
  {
   "cell_type": "code",
   "execution_count": null,
   "metadata": {
    "collapsed": true
   },
   "outputs": [],
   "source": []
  }
 ],
 "metadata": {
  "kernelspec": {
   "display_name": "PUI2016_Python2",
   "language": "python",
   "name": "pui2016_python2"
  },
  "language_info": {
   "codemirror_mode": {
    "name": "ipython",
    "version": 2
   },
   "file_extension": ".py",
   "mimetype": "text/x-python",
   "name": "python",
   "nbconvert_exporter": "python",
   "pygments_lexer": "ipython2",
   "version": "2.7.12"
  }
 },
 "nbformat": 4,
 "nbformat_minor": 0
}
