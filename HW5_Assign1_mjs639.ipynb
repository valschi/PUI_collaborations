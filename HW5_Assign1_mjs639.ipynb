{
 "cells": [
  {
   "cell_type": "code",
   "execution_count": 118,
   "metadata": {
    "collapsed": false
   },
   "outputs": [
    {
     "name": "stdout",
     "output_type": "stream",
     "text": [
      "Populating the interactive namespace from numpy and matplotlib\n"
     ]
    }
   ],
   "source": [
    "import pylab as pl\n",
    "import pandas as pd\n",
    "import numpy as np\n",
    "import os\n",
    "import scipy.stats\n",
    "%pylab inline"
   ]
  },
  {
   "cell_type": "markdown",
   "metadata": {},
   "source": [
    "# My Parameter Distribution"
   ]
  },
  {
   "cell_type": "code",
   "execution_count": 119,
   "metadata": {
    "collapsed": false
   },
   "outputs": [],
   "source": [
    "np.random.seed(150)\n",
    "mean = 144\n",
    "sigma = 12\n",
    "N = 100\n",
    "\n",
    "norm = np.random.normal(mean, sigma, N)"
   ]
  },
  {
   "cell_type": "code",
   "execution_count": 120,
   "metadata": {
    "collapsed": false
   },
   "outputs": [
    {
     "data": {
      "text/plain": [
       "(array([  3.,   7.,   9.,  16.,  28.,  12.,  11.,   9.,   4.,   1.]),\n",
       " array([ 111.90903035,  118.34955857,  124.79008679,  131.230615  ,\n",
       "         137.67114322,  144.11167143,  150.55219965,  156.99272786,\n",
       "         163.43325608,  169.87378429,  176.31431251]),\n",
       " <a list of 10 Patch objects>)"
      ]
     },
     "execution_count": 120,
     "metadata": {},
     "output_type": "execute_result"
    },
    {
     "data": {
      "image/png": "[encoded data removed]",
      "text/plain": [
       "<matplotlib.figure.Figure at 0x7fc5e62d5090>"
      ]
     },
     "metadata": {},
     "output_type": "display_data"
    }
   ],
   "source": [
    "plt.hist(norm)"
   ]
  },
  {
   "cell_type": "markdown",
   "metadata": {},
   "source": [
    "### Figure 1 shows the distribution of my control parameters. The distribution is Gaussian, with a mean of 144 and a standard deviation of 12"
   ]
  },
  {
   "cell_type": "markdown",
   "metadata": {},
   "source": [
    "# Generating my Random Poisson Distributions"
   ]
  },
  {
   "cell_type": "code",
   "execution_count": 128,
   "metadata": {
    "collapsed": false
   },
   "outputs": [],
   "source": [
    "np.random.seed(150)\n",
    "\n",
    "lamda = mean\n",
    "\n",
    "mydict = {}\n",
    "mydict['pois'] = {} \n",
    "mydict['pois']['means'] = {}\n",
    "\n",
    "for i in range(100):\n",
    "    mydict['pois'][i] = np.random.poisson(lamda, size= N)\n",
    "\n",
    "for q in mydict['pois']:\n",
    "    if not type(q) == str:\n",
    "        mydict['pois']['means'][q] = mydict['pois'][q].mean()\n",
    "        \n",
    "mymeans = mydict['pois']['means'].values()"
   ]
  },
  {
   "cell_type": "markdown",
   "metadata": {},
   "source": [
    "# Plotting one of the samples"
   ]
  },
  {
   "cell_type": "code",
   "execution_count": 129,
   "metadata": {
    "collapsed": false
   },
   "outputs": [
    {
     "data": {
      "image/png": "[encoded data removed]",
      "text/plain": [
       "<matplotlib.figure.Figure at 0x7fc5e2ff43d0>"
      ]
     },
     "metadata": {},
     "output_type": "display_data"
    }
   ],
   "source": [
    "plt.hist(mydict['pois'][0]);"
   ]
  },
  {
   "cell_type": "markdown",
   "metadata": {},
   "source": [
    "### Figure 2 is a histogram of one of my 100 randomly generated Poisson distributions"
   ]
  },
  {
   "cell_type": "markdown",
   "metadata": {},
   "source": [
    "## Set up my Z-Test"
   ]
  },
  {
   "cell_type": "code",
   "execution_count": 130,
   "metadata": {
    "collapsed": false
   },
   "outputs": [],
   "source": [
    "def ztest(m):\n",
    "    \"\"\"Runs the z test\"\"\"\n",
    "    z = (mean - m) / sigma * sqrt(n)\n",
    "    return z"
   ]
  },
  {
   "cell_type": "markdown",
   "metadata": {},
   "source": [
    "# Plotting my Z-Score distribution"
   ]
  },
  {
   "cell_type": "code",
   "execution_count": 131,
   "metadata": {
    "collapsed": false
   },
   "outputs": [
    {
     "data": {
      "image/png": "[encoded data removed]",
      "text/plain": [
       "<matplotlib.figure.Figure at 0x7fc5e2d51f10>"
      ]
     },
     "metadata": {},
     "output_type": "display_data"
    }
   ],
   "source": [
    "zscores = []\n",
    "\n",
    "for m in mymeans:\n",
    "    zscore = ztest(m)\n",
    "    zscores.append(zscore)\n",
    "    \n",
    "plt.hist(zscores);"
   ]
  },
  {
   "cell_type": "markdown",
   "metadata": {},
   "source": [
    "### Figure 3 shows the distribution of the z-scores calculated for each of my 100 sample distributions"
   ]
  },
  {
   "cell_type": "markdown",
   "metadata": {},
   "source": [
    "## Fit the Z-Score Distribution with a Gaussian Distribution of N(0,1)"
   ]
  },
  {
   "cell_type": "markdown",
   "metadata": {},
   "source": [
    "## $H_0$: My sample distribution ('zscores') comes from a normal distribution, N(0,1)\n",
    "$\\alpha = 0.05$"
   ]
  },
  {
   "cell_type": "code",
   "execution_count": 133,
   "metadata": {
    "collapsed": false
   },
   "outputs": [
    {
     "data": {
      "image/png": "[encoded data removed]",
      "text/plain": [
       "<matplotlib.figure.Figure at 0x7fc5e3148d50>"
      ]
     },
     "metadata": {},
     "output_type": "display_data"
    }
   ],
   "source": [
    "np.random.seed(150)\n",
    "N_0 = np.random.normal(0, 1, 100)\n",
    "plt.hist(zscores, alpha = .5)\n",
    "plt.hist(N_0, alpha = .5);"
   ]
  },
  {
   "cell_type": "markdown",
   "metadata": {},
   "source": [
    "### Figure 4 fits a Gaussian distribution (mean = 0, standard deviation = 1) over my z-score distribution "
   ]
  },
  {
   "cell_type": "markdown",
   "metadata": {},
   "source": [
    "## Assess Goodness of Fit with KS and AD tests\n"
   ]
  },
  {
   "cell_type": "code",
   "execution_count": 134,
   "metadata": {
    "collapsed": false
   },
   "outputs": [
    {
     "name": "stdout",
     "output_type": "stream",
     "text": [
      "('z-scores on normal', KstestResult(statistic=0.080107355947104053, pvalue=0.52586382133535192))\n",
      "('z-scores on normal', AndersonResult(statistic=0.48620799130414127, critical_values=array([ 0.555,  0.632,  0.759,  0.885,  1.053]), significance_level=array([ 15. ,  10. ,   5. ,   2.5,   1. ])))\n"
     ]
    }
   ],
   "source": [
    "print (\"z-scores on normal\", scipy.stats.kstest(zscores, 'norm'))\n",
    "print (\"z-scores on normal\", scipy.stats.anderson(zscores, dist='norm'))"
   ]
  },
  {
   "cell_type": "markdown",
   "metadata": {},
   "source": [
    "### Based on the KS test, we are unable to reject $H_0$ because the p-value (0.52) is greater than our selected p-value (0.05)."
   ]
  },
  {
   "cell_type": "markdown",
   "metadata": {},
   "source": [
    "### Based on the AD test, we are unable to reject $H_0$ because the critical value (0.486) is not higher than the necessary critical value for our selected p-value (0.736)."
   ]
  },
  {
   "cell_type": "markdown",
   "metadata": {},
   "source": [
    "## find the best fit values for the model parameters (mean and standard deviation) by minimizing the model chi square."
   ]
  },
  {
   "cell_type": "code",
   "execution_count": 139,
   "metadata": {
    "collapsed": false
   },
   "outputs": [],
   "source": [
    "scipy.stats.chisquare?"
   ]
  },
  {
   "cell_type": "code",
   "execution_count": null,
   "metadata": {
    "collapsed": true
   },
   "outputs": [],
   "source": []
  }
 ],
 "metadata": {
  "kernelspec": {
   "display_name": "PUI2016_Python2",
   "language": "python",
   "name": "pui2016_python2"
  },
  "language_info": {
   "codemirror_mode": {
    "name": "ipython",
    "version": 2
   },
   "file_extension": ".py",
   "mimetype": "text/x-python",
   "name": "python",
   "nbconvert_exporter": "python",
   "pygments_lexer": "ipython2",
   "version": "2.7.12"
  }
 },
 "nbformat": 4,
 "nbformat_minor": 0
}
